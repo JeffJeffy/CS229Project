{
  "nbformat": 4,
  "nbformat_minor": 0,
  "metadata": {
    "colab": {
      "name": "Model Selection.ipynb",
      "provenance": [],
      "collapsed_sections": [
        "fs-VP9fgPYG4",
        "A4bk71Of8BfI",
        "LGkdq4vPO7Ht"
      ]
    },
    "kernelspec": {
      "name": "python3",
      "display_name": "Python 3"
    }
  },
  "cells": [
    {
      "cell_type": "markdown",
      "metadata": {
        "id": "igK-P4SAMOd4",
        "colab_type": "text"
      },
      "source": [
        "# Setup"
      ]
    },
    {
      "cell_type": "code",
      "metadata": {
        "id": "zE7-m8JyLaZC",
        "colab_type": "code",
        "colab": {}
      },
      "source": [
        "import os\n",
        "import time\n",
        "\n",
        "import numpy as np\n",
        "import pandas as pd\n",
        "import matplotlib.pyplot as plt\n",
        "import torch\n",
        "import torch.nn as nn\n",
        "import torch.nn.functional as F\n",
        "from torchtext import data\n",
        "from torchtext import datasets\n",
        "\n",
        "import urllib.request\n",
        "\n",
        "from PIL import Image\n",
        "from torchvision import transforms\n",
        "from torch.utils.data import Dataset, DataLoader\n",
        "\n",
        "from sklearn.model_selection import train_test_split\n",
        "\n",
        "from ast import literal_eval\n",
        "import spacy\n",
        "\n",
        "from sklearn.metrics import mean_squared_error\n",
        "from sklearn.metrics import accuracy_score\n",
        "from sklearn.metrics import r2_score"
      ],
      "execution_count": 0,
      "outputs": []
    },
    {
      "cell_type": "code",
      "metadata": {
        "id": "UqXMdoAbLqyT",
        "colab_type": "code",
        "outputId": "a54c0bc0-a158-459e-9084-2feebd3e7ba2",
        "colab": {
          "base_uri": "https://localhost:8080/",
          "height": 125
        }
      },
      "source": [
        "from google.colab import drive\n",
        "drive.mount('/content/drive')"
      ],
      "execution_count": 3,
      "outputs": [
        {
          "output_type": "stream",
          "text": [
            "Go to this URL in a browser: https://accounts.google.com/o/oauth2/auth?client_id=947318989803-6bn6qk8qdgf4n4g3pfee6491hc0brc4i.apps.googleusercontent.com&redirect_uri=urn%3aietf%3awg%3aoauth%3a2.0%3aoob&response_type=code&scope=email%20https%3a%2f%2fwww.googleapis.com%2fauth%2fdocs.test%20https%3a%2f%2fwww.googleapis.com%2fauth%2fdrive%20https%3a%2f%2fwww.googleapis.com%2fauth%2fdrive.photos.readonly%20https%3a%2f%2fwww.googleapis.com%2fauth%2fpeopleapi.readonly\n",
            "\n",
            "Enter your authorization code:\n",
            "··········\n",
            "Mounted at /content/drive\n"
          ],
          "name": "stdout"
        }
      ]
    },
    {
      "cell_type": "code",
      "metadata": {
        "id": "UfGlKk68MAoY",
        "colab_type": "code",
        "colab": {}
      },
      "source": [
        "train_data = pd.read_csv('drive/Shared drives/CS229Movie/train1.csv')\n",
        "valid_data = pd.read_csv('drive/Shared drives/CS229Movie/valid1.csv')\n",
        "test_data = pd.read_csv('drive/Shared drives/CS229Movie/test1.csv')"
      ],
      "execution_count": 0,
      "outputs": []
    },
    {
      "cell_type": "code",
      "metadata": {
        "id": "IxBp3DvuMLKv",
        "colab_type": "code",
        "outputId": "1c0e4dfe-f03c-44e5-adbc-4a9c4402c16e",
        "colab": {
          "base_uri": "https://localhost:8080/",
          "height": 70
        }
      },
      "source": [
        "print(train_data.shape)\n",
        "print(valid_data.shape)\n",
        "print(test_data.shape)\n",
        "train_X = train_data.drop(columns=['posterID','IMDBscore'])\n",
        "valid_X = valid_data.drop(columns=['posterID','IMDBscore'])\n",
        "test_X = test_data.drop(columns=['posterID','IMDBscore'])"
      ],
      "execution_count": 5,
      "outputs": [
        {
          "output_type": "stream",
          "text": [
            "(13600, 6018)\n",
            "(2914, 6018)\n",
            "(2915, 6018)\n"
          ],
          "name": "stdout"
        }
      ]
    },
    {
      "cell_type": "markdown",
      "metadata": {
        "id": "G-GTHDEOMWuS",
        "colab_type": "text"
      },
      "source": [
        "# Random Forest Parameter Test"
      ]
    },
    {
      "cell_type": "code",
      "metadata": {
        "id": "Yiq6RltsMlIF",
        "colab_type": "code",
        "outputId": "8233ea08-80d5-4672-89e8-163e186d1042",
        "colab": {
          "base_uri": "https://localhost:8080/",
          "height": 122
        }
      },
      "source": [
        "from sklearn.ensemble import RandomForestRegressor\n",
        "\n",
        "rfreg = RandomForestRegressor(max_depth=32, random_state=0,n_estimators=100)\n",
        "rfreg.fit(train_X, train_data['IMDBscore'])\n",
        "\n",
        "print('Train R^2: ', rfreg.score(train_X, train_data['IMDBscore']))\n",
        "print('Train MSE: ', mean_squared_error(rfreg.predict(train_X), train_data['IMDBscore']))\n",
        "\n",
        "print('Valid R^2: ', rfreg.score(valid_X, valid_data['IMDBscore']))\n",
        "print('Valid MSE: ', mean_squared_error(rfreg.predict(valid_X), valid_data['IMDBscore']))\n",
        "\n",
        "print('Test R^2: ', rfreg.score(test_X, test_data['IMDBscore']))\n",
        "print('Test MSE: ', mean_squared_error(rfreg.predict(test_X), test_data['IMDBscore']))"
      ],
      "execution_count": 0,
      "outputs": [
        {
          "output_type": "stream",
          "text": [
            "Train R^2:  0.8819486896127308\n",
            "Train MSE:  0.17646090005485182\n",
            "Valid R^2:  0.4157589134771039\n",
            "Valid MSE:  0.8719259619493909\n",
            "Test R^2:  0.4253214943373195\n",
            "Test MSE:  0.8546312379882001\n"
          ],
          "name": "stdout"
        }
      ]
    },
    {
      "cell_type": "markdown",
      "metadata": {
        "id": "fs-VP9fgPYG4",
        "colab_type": "text"
      },
      "source": [
        "#### test on tree number (n_estimator)"
      ]
    },
    {
      "cell_type": "code",
      "metadata": {
        "id": "fu5z5Yb3MnxD",
        "colab_type": "code",
        "outputId": "924ab226-0dce-48cf-9136-6cad660520d5",
        "colab": {
          "base_uri": "https://localhost:8080/",
          "height": 437
        }
      },
      "source": [
        "train_R2_list = []\n",
        "train_MSE_list = []\n",
        "\n",
        "dev_R2_list = []\n",
        "dev_MSE_list = []\n",
        "\n",
        "time_list = [] # seconds\n",
        "\n",
        "tree_number_range = list(range(1, 10, 2)) + list(range(10, 50, 5)) + list(range(50, 160, 10))\n",
        "# max_depth_range = range(18) * 5 + 10\n",
        "\n",
        "for n in tree_number_range:\n",
        "  print(n)\n",
        "  start_time = time.time()\n",
        "  rfreg = RandomForestRegressor(max_depth=32, random_state=0,n_estimators=n)\n",
        "  rfreg.fit(train_X, train_data['IMDBscore'])\n",
        "\n",
        "  time_list.append(time.time() - start_time)\n",
        "\n",
        "  train_R2_list.append(rfreg.score(train_X, train_data['IMDBscore']))\n",
        "  train_MSE_list.append(mean_squared_error(rfreg.predict(train_X), train_data['IMDBscore']))\n",
        "\n",
        "  dev_R2_list.append(rfreg.score(valid_X, valid_data['IMDBscore']))\n",
        "  dev_MSE_list.append(mean_squared_error(rfreg.predict(valid_X), valid_data['IMDBscore']))\n",
        "\n",
        "para_test_nestimator = {\n",
        "    'train_R2_list': train_R2_list,\n",
        "    'train_MSE_list': train_MSE_list,\n",
        "    'dev_R2_list': dev_R2_list,\n",
        "    'dev_MSE_list': dev_MSE_list,\n",
        "    'time_list': time_list\n",
        "}"
      ],
      "execution_count": 0,
      "outputs": [
        {
          "output_type": "stream",
          "text": [
            "1\n",
            "3\n",
            "5\n",
            "7\n",
            "9\n",
            "10\n",
            "15\n",
            "20\n",
            "25\n",
            "30\n",
            "35\n",
            "40\n",
            "45\n",
            "50\n",
            "60\n",
            "70\n",
            "80\n",
            "90\n",
            "100\n",
            "110\n",
            "120\n",
            "130\n",
            "140\n",
            "150\n"
          ],
          "name": "stdout"
        }
      ]
    },
    {
      "cell_type": "code",
      "metadata": {
        "id": "4tFOIxgrQhW8",
        "colab_type": "code",
        "outputId": "aa003735-ac61-4109-923c-0df32f9ebdf8",
        "colab": {
          "base_uri": "https://localhost:8080/",
          "height": 617
        }
      },
      "source": [
        "fig, (ax1, ax2) = plt.subplots(2, 1)\n",
        "ax1.plot(tree_number_range, train_R2_list, color = 'red', label = 'train')\n",
        "ax1.plot(tree_number_range, dev_R2_list, color = 'blue', label = 'dev')\n",
        "ax1.legend(loc='upper right')\n",
        "\n",
        "# ax1.set_xlabel('n_estimator')\n",
        "ax1.set_ylabel('R^2')\n",
        "# ax1.set_xlim([0, 200])\n",
        "ax1.set_ylim([0, 1])\n",
        "\n",
        "ax2.plot(tree_number_range, train_MSE_list, color = 'red', label = 'train')\n",
        "ax2.plot(tree_number_range, dev_MSE_list, color = 'blue', label = 'dev')\n",
        "ax2.legend(loc='upper right')\n",
        "\n",
        "ax2.set_xlabel('n_estimator')\n",
        "ax2.set_ylabel('MSE')\n",
        "# ax2.set_xlim([0, 200])\n",
        "# ax2.set_ylim([0, 1.2])\n",
        "fig.show()\n",
        "\n",
        "\n",
        "fig0, ax0 = plt.subplots()\n",
        "ax0.plot(tree_number_range, time_list)\n",
        "ax0.set_xlabel('n_estimator')\n",
        "ax0.set_ylabel('training time (s)')\n",
        "fig0.show()\n",
        "\n",
        "fig.savefig('drive/Shared drives/CS229Movie/RandomForest_nestimator.eps')\n",
        "fig0.savefig('drive/Shared drives/CS229Movie/RandomForest_nestimator_traintime.eps')"
      ],
      "execution_count": 0,
      "outputs": [
        {
          "output_type": "stream",
          "text": [
            "The PostScript backend does not support transparency; partially transparent artists will be rendered opaque.\n",
            "The PostScript backend does not support transparency; partially transparent artists will be rendered opaque.\n",
            "The PostScript backend does not support transparency; partially transparent artists will be rendered opaque.\n",
            "The PostScript backend does not support transparency; partially transparent artists will be rendered opaque.\n"
          ],
          "name": "stderr"
        },
        {
          "output_type": "display_data",
          "data": {
            "image/png": "[encoded data removed]",
            "text/plain": [
              "<Figure size 432x288 with 2 Axes>"
            ]
          },
          "metadata": {
            "tags": []
          }
        },
        {
          "output_type": "display_data",
          "data": {
            "image/png": "[encoded data removed]",
            "text/plain": [
              "<Figure size 432x288 with 1 Axes>"
            ]
          },
          "metadata": {
            "tags": []
          }
        }
      ]
    },
    {
      "cell_type": "markdown",
      "metadata": {
        "id": "A4bk71Of8BfI",
        "colab_type": "text"
      },
      "source": [
        "#### test on max depth"
      ]
    },
    {
      "cell_type": "code",
      "metadata": {
        "id": "FxxXSdZ77Ejj",
        "colab_type": "code",
        "outputId": "3d1f8547-4c2e-4087-eb30-cb1ccd10ab9a",
        "colab": {
          "base_uri": "https://localhost:8080/",
          "height": 350
        }
      },
      "source": [
        "# set tree number to 100\n",
        "train_R2_list = []\n",
        "train_MSE_list = []\n",
        "\n",
        "dev_R2_list = []\n",
        "dev_MSE_list = []\n",
        "\n",
        "time_list = [] # seconds\n",
        "\n",
        "# max_depth_range = list(range(1, 10, 2)) + list(range(10, 50, 5)) + list(range(50, 130, 10))\n",
        "max_depth_range = list(range(10, 101, 5))\n",
        "\n",
        "for d in max_depth_range:\n",
        "  print(d)\n",
        "  start_time = time.time()\n",
        "  rfreg = RandomForestRegressor(max_depth=d, random_state=0,n_estimators=100)\n",
        "  rfreg.fit(train_X, train_data['IMDBscore'])\n",
        "\n",
        "  time_list.append(time.time() - start_time)\n",
        "\n",
        "  train_R2_list.append(rfreg.score(train_X, train_data['IMDBscore']))\n",
        "  train_MSE_list.append(mean_squared_error(rfreg.predict(train_X), train_data['IMDBscore']))\n",
        "\n",
        "  dev_R2_list.append(rfreg.score(valid_X, valid_data['IMDBscore']))\n",
        "  dev_MSE_list.append(mean_squared_error(rfreg.predict(valid_X), valid_data['IMDBscore']))\n",
        "\n",
        "para_test_maxdepth = {\n",
        "    'train_R2_list': train_R2_list,\n",
        "    'train_MSE_list': train_MSE_list,\n",
        "    'dev_R2_list': dev_R2_list,\n",
        "    'dev_MSE_list': dev_MSE_list,\n",
        "    'time_list': time_list\n",
        "}"
      ],
      "execution_count": 0,
      "outputs": [
        {
          "output_type": "stream",
          "text": [
            "10\n",
            "15\n",
            "20\n",
            "25\n",
            "30\n",
            "35\n",
            "40\n",
            "45\n",
            "50\n",
            "55\n",
            "60\n",
            "65\n",
            "70\n",
            "75\n",
            "80\n",
            "85\n",
            "90\n",
            "95\n",
            "100\n"
          ],
          "name": "stdout"
        }
      ]
    },
    {
      "cell_type": "code",
      "metadata": {
        "id": "wySMf7tQ78WN",
        "colab_type": "code",
        "outputId": "9943163b-18c8-45f3-98c9-1ae64ed265e9",
        "colab": {
          "base_uri": "https://localhost:8080/",
          "height": 612
        }
      },
      "source": [
        "fig, (ax1, ax2) = plt.subplots(2, 1)\n",
        "ax1.plot(max_depth_range, train_R2_list, color = 'red', label = 'train')\n",
        "ax1.plot(max_depth_range, dev_R2_list, color = 'blue', label = 'dev')\n",
        "ax1.legend(loc='upper right')\n",
        "\n",
        "# ax1.set_xlabel('n_estimator')\n",
        "ax1.set_ylabel('R^2')\n",
        "# ax1.set_xlim([0, 200])\n",
        "# ax1.set_ylim([0, 1])\n",
        "\n",
        "ax2.plot(max_depth_range, train_MSE_list, color = 'red', label = 'train')\n",
        "ax2.plot(max_depth_range, dev_MSE_list, color = 'blue', label = 'dev')\n",
        "ax2.legend(loc='upper right')\n",
        "\n",
        "ax2.set_xlabel('max_depth')\n",
        "ax2.set_ylabel('MSE')\n",
        "# ax2.set_xlim([0, 200])\n",
        "# ax2.set_ylim([0, 1.2])\n",
        "fig.show()\n",
        "\n",
        "\n",
        "fig0, ax0 = plt.subplots()\n",
        "ax0.plot(max_depth_range, time_list)\n",
        "ax0.set_xlabel('max_depth')\n",
        "ax0.set_ylabel('training time (s)')\n",
        "fig0.show()\n",
        "\n",
        "\n",
        "fig.savefig('drive/Shared drives/CS229Movie/RandomForest_maxdepth.eps')\n",
        "fig0.savefig('drive/Shared drives/CS229Movie/RandomForest_maxdepth_traintime.eps')"
      ],
      "execution_count": 0,
      "outputs": [
        {
          "output_type": "stream",
          "text": [
            "The PostScript backend does not support transparency; partially transparent artists will be rendered opaque.\n",
            "The PostScript backend does not support transparency; partially transparent artists will be rendered opaque.\n",
            "The PostScript backend does not support transparency; partially transparent artists will be rendered opaque.\n",
            "The PostScript backend does not support transparency; partially transparent artists will be rendered opaque.\n"
          ],
          "name": "stderr"
        },
        {
          "output_type": "display_data",
          "data": {
            "image/png": "[encoded data removed]",
            "text/plain": [
              "<Figure size 432x288 with 2 Axes>"
            ]
          },
          "metadata": {
            "tags": []
          }
        },
        {
          "output_type": "display_data",
          "data": {
            "image/png": "[encoded data removed]",
            "text/plain": [
              "<Figure size 432x288 with 1 Axes>"
            ]
          },
          "metadata": {
            "tags": []
          }
        }
      ]
    },
    {
      "cell_type": "code",
      "metadata": {
        "id": "gT3dutX0b2n1",
        "colab_type": "code",
        "outputId": "f2986a6b-c483-428e-df91-c8fd78d37998",
        "colab": {
          "base_uri": "https://localhost:8080/",
          "height": 350
        }
      },
      "source": [
        "# set tree number to 5\n",
        "train_R2_list = []\n",
        "train_MSE_list = []\n",
        "\n",
        "dev_R2_list = []\n",
        "dev_MSE_list = []\n",
        "\n",
        "time_list = [] # seconds\n",
        "\n",
        "# max_depth_range = list(range(1, 10, 2)) + list(range(10, 50, 5)) + list(range(50, 130, 10))\n",
        "max_depth_range = list(range(10, 101, 5))\n",
        "\n",
        "for d in max_depth_range:\n",
        "  print(d)\n",
        "  start_time = time.time()\n",
        "  rfreg = RandomForestRegressor(max_depth=d, random_state=0,n_estimators=5)\n",
        "  rfreg.fit(train_X, train_data['IMDBscore'])\n",
        "\n",
        "  time_list.append(time.time() - start_time)\n",
        "\n",
        "  train_R2_list.append(rfreg.score(train_X, train_data['IMDBscore']))\n",
        "  train_MSE_list.append(mean_squared_error(rfreg.predict(train_X), train_data['IMDBscore']))\n",
        "\n",
        "  dev_R2_list.append(rfreg.score(valid_X, valid_data['IMDBscore']))\n",
        "  dev_MSE_list.append(mean_squared_error(rfreg.predict(valid_X), valid_data['IMDBscore']))\n",
        "\n",
        "para_test_maxdepth = {\n",
        "    'train_R2_list': train_R2_list,\n",
        "    'train_MSE_list': train_MSE_list,\n",
        "    'dev_R2_list': dev_R2_list,\n",
        "    'dev_MSE_list': dev_MSE_list,\n",
        "    'time_list': time_list\n",
        "}"
      ],
      "execution_count": 0,
      "outputs": [
        {
          "output_type": "stream",
          "text": [
            "10\n",
            "15\n",
            "20\n",
            "25\n",
            "30\n",
            "35\n",
            "40\n",
            "45\n",
            "50\n",
            "55\n",
            "60\n",
            "65\n",
            "70\n",
            "75\n",
            "80\n",
            "85\n",
            "90\n",
            "95\n",
            "100\n"
          ],
          "name": "stdout"
        }
      ]
    },
    {
      "cell_type": "code",
      "metadata": {
        "id": "VQnV4lXKcJ_T",
        "colab_type": "code",
        "outputId": "f41dbc32-4d3e-4aef-9384-728715488164",
        "colab": {
          "base_uri": "https://localhost:8080/",
          "height": 612
        }
      },
      "source": [
        "fig, (ax1, ax2) = plt.subplots(2, 1)\n",
        "ax1.plot(max_depth_range, train_R2_list, color = 'red', label = 'train')\n",
        "ax1.plot(max_depth_range, dev_R2_list, color = 'blue', label = 'dev')\n",
        "ax1.legend(loc='upper right')\n",
        "\n",
        "# ax1.set_xlabel('n_estimator')\n",
        "ax1.set_ylabel('R^2')\n",
        "# ax1.set_xlim([0, 200])\n",
        "# ax1.set_ylim([0, 1])\n",
        "\n",
        "ax2.plot(max_depth_range, train_MSE_list, color = 'red', label = 'train')\n",
        "ax2.plot(max_depth_range, dev_MSE_list, color = 'blue', label = 'dev')\n",
        "ax2.legend(loc='upper right')\n",
        "\n",
        "ax2.set_xlabel('max_depth')\n",
        "ax2.set_ylabel('MSE')\n",
        "# ax2.set_xlim([0, 200])\n",
        "# ax2.set_ylim([0, 1.2])\n",
        "fig.show()\n",
        "\n",
        "\n",
        "fig0, ax0 = plt.subplots()\n",
        "ax0.plot(max_depth_range, time_list)\n",
        "ax0.set_xlabel('max_depth')\n",
        "ax0.set_ylabel('training time (s)')\n",
        "fig0.show()\n",
        "\n",
        "\n",
        "fig.savefig('drive/Shared drives/CS229Movie/RandomForest_maxdepth_tree5.eps')\n",
        "fig0.savefig('drive/Shared drives/CS229Movie/RandomForest_maxdepth_tree5_traintime.eps')"
      ],
      "execution_count": 0,
      "outputs": [
        {
          "output_type": "stream",
          "text": [
            "The PostScript backend does not support transparency; partially transparent artists will be rendered opaque.\n",
            "The PostScript backend does not support transparency; partially transparent artists will be rendered opaque.\n",
            "The PostScript backend does not support transparency; partially transparent artists will be rendered opaque.\n",
            "The PostScript backend does not support transparency; partially transparent artists will be rendered opaque.\n"
          ],
          "name": "stderr"
        },
        {
          "output_type": "display_data",
          "data": {
            "image/png": "[encoded data removed]",
            "text/plain": [
              "<Figure size 432x288 with 2 Axes>"
            ]
          },
          "metadata": {
            "tags": []
          }
        },
        {
          "output_type": "display_data",
          "data": {
            "image/png": "[encoded data removed]",
            "text/plain": [
              "<Figure size 432x288 with 1 Axes>"
            ]
          },
          "metadata": {
            "tags": []
          }
        }
      ]
    },
    {
      "cell_type": "code",
      "metadata": {
        "id": "WJk3smGpeQgR",
        "colab_type": "code",
        "outputId": "98c5bedf-717f-4166-9de8-c88511a02dc0",
        "colab": {
          "base_uri": "https://localhost:8080/",
          "height": 350
        }
      },
      "source": [
        "# set tree number to 1\n",
        "train_R2_list = []\n",
        "train_MSE_list = []\n",
        "\n",
        "dev_R2_list = []\n",
        "dev_MSE_list = []\n",
        "\n",
        "time_list = [] # seconds\n",
        "\n",
        "# max_depth_range = list(range(1, 10, 2)) + list(range(10, 50, 5)) + list(range(50, 130, 10))\n",
        "max_depth_range = list(range(10, 101, 5))\n",
        "\n",
        "for d in max_depth_range:\n",
        "  print(d)\n",
        "  start_time = time.time()\n",
        "  rfreg = RandomForestRegressor(max_depth=d, random_state=0,n_estimators=1)\n",
        "  rfreg.fit(train_X, train_data['IMDBscore'])\n",
        "\n",
        "  time_list.append(time.time() - start_time)\n",
        "\n",
        "  train_R2_list.append(rfreg.score(train_X, train_data['IMDBscore']))\n",
        "  train_MSE_list.append(mean_squared_error(rfreg.predict(train_X), train_data['IMDBscore']))\n",
        "\n",
        "  dev_R2_list.append(rfreg.score(valid_X, valid_data['IMDBscore']))\n",
        "  dev_MSE_list.append(mean_squared_error(rfreg.predict(valid_X), valid_data['IMDBscore']))\n",
        "\n",
        "para_test_maxdepth = {\n",
        "    'train_R2_list': train_R2_list,\n",
        "    'train_MSE_list': train_MSE_list,\n",
        "    'dev_R2_list': dev_R2_list,\n",
        "    'dev_MSE_list': dev_MSE_list,\n",
        "    'time_list': time_list\n",
        "}"
      ],
      "execution_count": 0,
      "outputs": [
        {
          "output_type": "stream",
          "text": [
            "10\n",
            "15\n",
            "20\n",
            "25\n",
            "30\n",
            "35\n",
            "40\n",
            "45\n",
            "50\n",
            "55\n",
            "60\n",
            "65\n",
            "70\n",
            "75\n",
            "80\n",
            "85\n",
            "90\n",
            "95\n",
            "100\n"
          ],
          "name": "stdout"
        }
      ]
    },
    {
      "cell_type": "code",
      "metadata": {
        "id": "DacS-KcdeQrL",
        "colab_type": "code",
        "outputId": "1fd6dead-775a-4425-c366-3ba046875718",
        "colab": {
          "base_uri": "https://localhost:8080/",
          "height": 613
        }
      },
      "source": [
        "fig, (ax1, ax2) = plt.subplots(2, 1)\n",
        "ax1.plot(max_depth_range, train_R2_list, color = 'red', label = 'train')\n",
        "ax1.plot(max_depth_range, dev_R2_list, color = 'blue', label = 'dev')\n",
        "ax1.legend(loc='upper right')\n",
        "\n",
        "# ax1.set_xlabel('n_estimator')\n",
        "ax1.set_ylabel('R^2')\n",
        "# ax1.set_xlim([0, 200])\n",
        "# ax1.set_ylim([0, 1])\n",
        "\n",
        "ax2.plot(max_depth_range, train_MSE_list, color = 'red', label = 'train')\n",
        "ax2.plot(max_depth_range, dev_MSE_list, color = 'blue', label = 'dev')\n",
        "ax2.legend(loc='upper right')\n",
        "\n",
        "ax2.set_xlabel('max_depth')\n",
        "ax2.set_ylabel('MSE')\n",
        "# ax2.set_xlim([0, 200])\n",
        "# ax2.set_ylim([0, 1.2])\n",
        "fig.show()\n",
        "\n",
        "\n",
        "fig0, ax0 = plt.subplots()\n",
        "ax0.plot(max_depth_range, time_list)\n",
        "ax0.set_xlabel('max_depth')\n",
        "ax0.set_ylabel('training time (s)')\n",
        "fig0.show()\n",
        "\n",
        "fig.savefig('drive/Shared drives/CS229Movie/RandomForest_maxdepth_tree1.eps')\n",
        "fig0.savefig('drive/Shared drives/CS229Movie/RandomForest_maxdepth_tree1_traintime.eps')"
      ],
      "execution_count": 0,
      "outputs": [
        {
          "output_type": "stream",
          "text": [
            "The PostScript backend does not support transparency; partially transparent artists will be rendered opaque.\n",
            "The PostScript backend does not support transparency; partially transparent artists will be rendered opaque.\n",
            "The PostScript backend does not support transparency; partially transparent artists will be rendered opaque.\n",
            "The PostScript backend does not support transparency; partially transparent artists will be rendered opaque.\n"
          ],
          "name": "stderr"
        },
        {
          "output_type": "display_data",
          "data": {
            "image/png": "[encoded data removed]",
            "text/plain": [
              "<Figure size 432x288 with 2 Axes>"
            ]
          },
          "metadata": {
            "tags": []
          }
        },
        {
          "output_type": "display_data",
          "data": {
            "image/png": "[encoded data removed]",
            "text/plain": [
              "<Figure size 432x288 with 1 Axes>"
            ]
          },
          "metadata": {
            "tags": []
          }
        }
      ]
    },
    {
      "cell_type": "markdown",
      "metadata": {
        "id": "LGkdq4vPO7Ht",
        "colab_type": "text"
      },
      "source": [
        "#### test on max feature (fraction of total features)"
      ]
    },
    {
      "cell_type": "code",
      "metadata": {
        "id": "zH5tpXl8O5fv",
        "colab_type": "code",
        "outputId": "d2938d9e-0e07-4ae3-f0d7-14c5fca5a10e",
        "colab": {
          "base_uri": "https://localhost:8080/",
          "height": 192
        }
      },
      "source": [
        "train_R2_list = []\n",
        "train_MSE_list = []\n",
        "\n",
        "dev_R2_list = []\n",
        "dev_MSE_list = []\n",
        "\n",
        "max_feature_range = list(np.arange(0.1, 1.1, 0.1))\n",
        "\n",
        "for f in max_feature_range:\n",
        "  print(f)\n",
        "  rfreg = RandomForestRegressor(max_depth=32, random_state=0,n_estimators=100, max_features=f)\n",
        "  rfreg.fit(train_X, train_data['IMDBscore'])\n",
        "\n",
        "  train_R2_list.append(rfreg.score(train_X, train_data['IMDBscore']))\n",
        "  train_MSE_list.append(mean_squared_error(rfreg.predict(train_X), train_data['IMDBscore']))\n",
        "\n",
        "  dev_R2_list.append(rfreg.score(valid_X, valid_data['IMDBscore']))\n",
        "  dev_MSE_list.append(mean_squared_error(rfreg.predict(valid_X), valid_data['IMDBscore']))\n",
        "\n",
        "para_test_maxfeature = {\n",
        "    'range': max_feature_range,\n",
        "    'train_R2_list': train_R2_list,\n",
        "    'train_MSE_list': train_MSE_list,\n",
        "    'dev_R2_list': dev_R2_list,\n",
        "    'dev_MSE_list': dev_MSE_list\n",
        "}"
      ],
      "execution_count": 0,
      "outputs": [
        {
          "output_type": "stream",
          "text": [
            "0.1\n",
            "0.2\n",
            "0.30000000000000004\n",
            "0.4\n",
            "0.5\n",
            "0.6\n",
            "0.7000000000000001\n",
            "0.8\n",
            "0.9\n",
            "1.0\n"
          ],
          "name": "stdout"
        }
      ]
    },
    {
      "cell_type": "code",
      "metadata": {
        "id": "kQqGDtBcPecM",
        "colab_type": "code",
        "outputId": "cd73b1b7-dde2-453f-b8bc-2e094ce378d6",
        "colab": {
          "base_uri": "https://localhost:8080/",
          "height": 350
        }
      },
      "source": [
        "fig, (ax1, ax2) = plt.subplots(2, 1)\n",
        "ax1.plot(max_feature_range, train_R2_list, color = 'red', label = 'train')\n",
        "ax1.plot(max_feature_range, dev_R2_list, color = 'blue', label = 'dev')\n",
        "ax1.legend(loc='upper right')\n",
        "\n",
        "ax1.set_ylabel('R^2')\n",
        "# ax1.set_xlim([0, 200])\n",
        "# ax1.set_ylim([0, 1])\n",
        "\n",
        "ax2.plot(max_feature_range, train_MSE_list, color = 'red', label = 'train')\n",
        "ax2.plot(max_feature_range, dev_MSE_list, color = 'blue', label = 'dev')\n",
        "ax2.legend(loc='upper right')\n",
        "\n",
        "ax2.set_xlabel('max_features')\n",
        "ax2.set_ylabel('MSE')\n",
        "# ax2.set_xlim([0, 200])\n",
        "# ax2.set_ylim([0, 1.2])\n",
        "fig.show()\n",
        "\n",
        "fig.savefig('drive/Shared drives/CS229Movie/RandomForest_maxfeature.eps')"
      ],
      "execution_count": 0,
      "outputs": [
        {
          "output_type": "stream",
          "text": [
            "The PostScript backend does not support transparency; partially transparent artists will be rendered opaque.\n",
            "The PostScript backend does not support transparency; partially transparent artists will be rendered opaque.\n",
            "The PostScript backend does not support transparency; partially transparent artists will be rendered opaque.\n",
            "The PostScript backend does not support transparency; partially transparent artists will be rendered opaque.\n"
          ],
          "name": "stderr"
        },
        {
          "output_type": "display_data",
          "data": {
            "image/png": "[encoded data removed]",
            "text/plain": [
              "<Figure size 432x288 with 2 Axes>"
            ]
          },
          "metadata": {
            "tags": []
          }
        }
      ]
    },
    {
      "cell_type": "markdown",
      "metadata": {
        "id": "gRHABUdpWhcG",
        "colab_type": "text"
      },
      "source": [
        "# Feature Importance"
      ]
    },
    {
      "cell_type": "markdown",
      "metadata": {
        "id": "zYk1W8N3oR_F",
        "colab_type": "text"
      },
      "source": [
        "#### access dictionary"
      ]
    },
    {
      "cell_type": "code",
      "metadata": {
        "id": "PozjngJuoWl1",
        "colab_type": "code",
        "colab": {}
      },
      "source": [
        "def get_words(message, tokenizer = None):\n",
        "    if tokenizer:\n",
        "        doc = tokenizer(message)\n",
        "        return [i.text for i in doc]\n",
        "    else:\n",
        "        return message.lower().split('|')\n",
        "\n",
        "def create_dictionary(messages, min_count = 5, tokenizer = None):\n",
        "    words_count = {}\n",
        "    for s in messages:\n",
        "        words = get_words(s, tokenizer)\n",
        "        words_unique = list(dict.fromkeys(words))\n",
        "        for w in words_unique:\n",
        "            if w not in words_count:\n",
        "                words_count[w] = 1\n",
        "            else:\n",
        "                words_count[w] += 1\n",
        "\n",
        "    for word in list(words_count.keys()):\n",
        "        if words_count[word] < min_count:\n",
        "            del words_count[word]\n",
        "\n",
        "    index = 1\n",
        "    for word in list(words_count.keys()):\n",
        "        words_count[word] = index\n",
        "        index = index + 1\n",
        "\n",
        "    return words_count"
      ],
      "execution_count": 0,
      "outputs": []
    },
    {
      "cell_type": "code",
      "metadata": {
        "id": "UYGHB734qmKv",
        "colab_type": "code",
        "outputId": "54c05e5a-82d3-48a0-ac3f-c639bbef36da",
        "colab": {
          "base_uri": "https://localhost:8080/",
          "height": 105
        }
      },
      "source": [
        "train_data_fordict = pd.read_csv('drive/Shared drives/CS229Movie/train.csv')\n",
        "\n",
        "genre_dictionary = create_dictionary(train_data_fordict['genre'].astype(str).values, min_count=5)\n",
        "print('Size of dictionary: ', len(genre_dictionary))\n",
        "\n",
        "director_dictionary = create_dictionary(train_data_fordict['director'].astype(str).values, min_count=5)\n",
        "print('Size of dictionary: ', len(director_dictionary))\n",
        "\n",
        "actors_dictionary = create_dictionary(train_data_fordict['actors'].astype(str).values, min_count = 5)\n",
        "print('Size of dictionary: ', len(actors_dictionary))\n",
        "\n",
        "tokenizer = spacy.load(\"en_core_web_sm\", disable=[\"tagger\", \"parser\",\"ner\"])\n",
        "overview_dictionary = create_dictionary(train_data_fordict['overview'], min_count = 20, tokenizer = tokenizer)\n",
        "print('Size of dictionary: ', len(overview_dictionary))\n",
        "\n",
        "poster_feature_list = ['num_faces','hue','hue_sd','saturation','saturation_sd ','brightness','brightness_sd','blue','blue_sd','green','green_sd','red','red_sd ']\n",
        "print('length of list:', len(poster_feature_list))"
      ],
      "execution_count": 7,
      "outputs": [
        {
          "output_type": "stream",
          "text": [
            "Size of dictionary:  23\n",
            "Size of dictionary:  492\n",
            "Size of dictionary:  1603\n",
            "Size of dictionary:  3884\n",
            "length of list: 13\n"
          ],
          "name": "stdout"
        }
      ]
    },
    {
      "cell_type": "code",
      "metadata": {
        "id": "KFuzsAUhkV3B",
        "colab_type": "code",
        "colab": {
          "base_uri": "https://localhost:8080/",
          "height": 35
        },
        "outputId": "70b309a7-19e9-4d3e-b40b-616f31f602d5"
      },
      "source": [
        "if 'ruoyun ma' in actors_dictionary:\n",
        "  print('yes')\n",
        "else:\n",
        "  print('no')"
      ],
      "execution_count": 13,
      "outputs": [
        {
          "output_type": "stream",
          "text": [
            "no\n"
          ],
          "name": "stdout"
        }
      ]
    },
    {
      "cell_type": "code",
      "metadata": {
        "id": "PG9VvJTulI64",
        "colab_type": "code",
        "colab": {
          "base_uri": "https://localhost:8080/",
          "height": 35
        },
        "outputId": "db72ca12-59cd-4366-aec1-3a85f867c531"
      },
      "source": [
        "if 'steven spielberg' in director_dictionary:\n",
        "  print('yes')\n",
        "else:\n",
        "  print('no')"
      ],
      "execution_count": 17,
      "outputs": [
        {
          "output_type": "stream",
          "text": [
            "yes\n"
          ],
          "name": "stdout"
        }
      ]
    },
    {
      "cell_type": "markdown",
      "metadata": {
        "id": "Sd7LJVkTtxLy",
        "colab_type": "text"
      },
      "source": [
        "#### feature importance categorization"
      ]
    },
    {
      "cell_type": "code",
      "metadata": {
        "colab_type": "code",
        "outputId": "de80fd76-72ba-4fcb-b498-0d2d7fb04c29",
        "id": "ZeEOCy9cZdjv",
        "colab": {
          "base_uri": "https://localhost:8080/",
          "height": 122
        }
      },
      "source": [
        "from sklearn.ensemble import RandomForestRegressor\n",
        "\n",
        "rfreg = RandomForestRegressor(max_depth=32, random_state=0,n_estimators=100)\n",
        "rfreg.fit(train_X, train_data['IMDBscore'])\n",
        "\n",
        "print('Train R^2: ', rfreg.score(train_X, train_data['IMDBscore']))\n",
        "print('Train MSE: ', mean_squared_error(rfreg.predict(train_X), train_data['IMDBscore']))\n",
        "\n",
        "print('Valid R^2: ', rfreg.score(valid_X, valid_data['IMDBscore']))\n",
        "print('Valid MSE: ', mean_squared_error(rfreg.predict(valid_X), valid_data['IMDBscore']))\n",
        "\n",
        "print('Test R^2: ', rfreg.score(test_X, test_data['IMDBscore']))\n",
        "print('Test MSE: ', mean_squared_error(rfreg.predict(test_X), test_data['IMDBscore']))"
      ],
      "execution_count": 18,
      "outputs": [
        {
          "output_type": "stream",
          "text": [
            "Train R^2:  0.8819486896127308\n",
            "Train MSE:  0.17646090005485182\n",
            "Valid R^2:  0.4157589134771039\n",
            "Valid MSE:  0.8719259619493909\n",
            "Test R^2:  0.4253214943373195\n",
            "Test MSE:  0.8546312379882001\n"
          ],
          "name": "stdout"
        }
      ]
    },
    {
      "cell_type": "code",
      "metadata": {
        "id": "5l4iG5SeZjU4",
        "colab_type": "code",
        "colab": {}
      },
      "source": [
        "importances = rfreg.feature_importances_\n",
        "indices = np.argsort(importances)[::-1]\n",
        "feature_name = train_X.columns\n",
        "\n",
        "importances_order = np.argsort(rfreg.feature_importances_)[::-1]"
      ],
      "execution_count": 0,
      "outputs": []
    },
    {
      "cell_type": "code",
      "metadata": {
        "id": "Mqh3F9uWvvPR",
        "colab_type": "code",
        "outputId": "1b6e1039-f965-4eb5-827f-dc2709d3cb0f",
        "colab": {
          "base_uri": "https://localhost:8080/",
          "height": 35
        }
      },
      "source": [
        "genre_indices = []\n",
        "director_indices = []\n",
        "actor_indices = []\n",
        "overview_indices = []\n",
        "poster_indices = []\n",
        "\n",
        "for idx in indices:\n",
        "  if feature_name[idx] in genre_dictionary:\n",
        "    genre_indices.append(idx)\n",
        "  elif feature_name[idx] in director_dictionary:\n",
        "    director_indices.append(idx)\n",
        "  elif feature_name[idx] in actors_dictionary:\n",
        "    actor_indices.append(idx)\n",
        "  elif feature_name[idx] in overview_dictionary:\n",
        "    overview_indices.append(idx)\n",
        "  elif feature_name[idx] in poster_feature_list:\n",
        "    poster_indices.append(idx)\n",
        "\n",
        "print(len(genre_indices), len(director_indices), len(actor_indices), len(overview_indices), len(poster_indices))"
      ],
      "execution_count": 16,
      "outputs": [
        {
          "output_type": "stream",
          "text": [
            "23 491 1578 3862 8\n"
          ],
          "name": "stdout"
        }
      ]
    },
    {
      "cell_type": "code",
      "metadata": {
        "id": "CIcUGtS1J6nB",
        "colab_type": "code",
        "outputId": "713babfe-db45-47bc-d6c0-4fa04d5183cb",
        "colab": {
          "base_uri": "https://localhost:8080/",
          "height": 1000
        }
      },
      "source": [
        "print(\"Director Feature Importance Ranking (Top 10):\")\n",
        "\n",
        "for f in range(10):\n",
        "  idx = indices[f]\n",
        "  print(f + 1, feature_name[idx], importances[idx])\n",
        "\n",
        "plt.figure()\n",
        "plt.title(\"Feature importances (top 10 directors)\")\n",
        "plt.bar(range(10),importances[indices[:10]])\n",
        "plt.xticks(range(10), feature_name[indices[:10]], rotation='vertical')\n",
        "plt.show()\n",
        "\n",
        "importances_order = np.argsort(rfreg.feature_importances_)[::-1]\n",
        "print(train_X.columns[importances_order[:20]])\n",
        "print(rfreg.feature_importances_[importances_order[:20]])\n",
        "plt.figure()\n",
        "plt.title(\"Feature importances\")\n",
        "plt.bar(range(20),rfreg.feature_importances_[importances_order[:20]])\n",
        "plt.xticks(range(20), train_X.columns[importances_order[:20]], rotation='vertical')\n",
        "plt.show()"
      ],
      "execution_count": 0,
      "outputs": [
        {
          "output_type": "stream",
          "text": [
            "Director Feature Importance Ranking (Top 10):\n",
            "1 documentary 0.1422441944794736\n",
            "2 runtime 0.1327596730068581\n",
            "3 horror 0.08357367135793568\n",
            "4 drama 0.0509635843000348\n",
            "5 saturation_sd 0.03726235389791489\n",
            "6 hue_sd 0.03671717250534032\n",
            "7 hue 0.03492230459809001\n",
            "8 saturation 0.034029880672423594\n",
            "9 blue_sd 0.03002757317940987\n",
            "10 green_sd 0.028504360681907443\n"
          ],
          "name": "stdout"
        },
        {
          "output_type": "display_data",
          "data": {
            "image/png": "[encoded data removed]",
            "text/plain": [
              "<Figure size 432x288 with 1 Axes>"
            ]
          },
          "metadata": {
            "tags": []
          }
        },
        {
          "output_type": "stream",
          "text": [
            "Index(['documentary', 'runtime', 'horror', 'drama', 'saturation_sd', 'hue_sd',\n",
            "       'hue', 'saturation', 'blue_sd', 'green_sd', 'red_sd', 'brightness_sd',\n",
            "       'red', 'green', 'blue', 'brightness', 'animation', 'action', 'short',\n",
            "       'sci-fi'],\n",
            "      dtype='object')\n",
            "[0.14224419 0.13275967 0.08357367 0.05096358 0.03726235 0.03671717\n",
            " 0.0349223  0.03402988 0.03002757 0.02850436 0.02790697 0.02731554\n",
            " 0.02706554 0.02588318 0.02568622 0.02454099 0.02124341 0.02060925\n",
            " 0.01014084 0.00833281]\n"
          ],
          "name": "stdout"
        },
        {
          "output_type": "display_data",
          "data": {
            "image/png": "[encoded data removed]",
            "text/plain": [
              "<Figure size 432x288 with 1 Axes>"
            ]
          },
          "metadata": {
            "tags": []
          }
        }
      ]
    },
    {
      "cell_type": "code",
      "metadata": {
        "id": "Rgp15H-pB6uT",
        "colab_type": "code",
        "outputId": "56a7530d-387d-4c88-fd9a-e73d6375a636",
        "colab": {
          "base_uri": "https://localhost:8080/",
          "height": 516
        }
      },
      "source": [
        "print(\"Poster Feature Importance Ranking:\")\n",
        "\n",
        "for f in range(len(poster_indices)):\n",
        "  idx = poster_indices[f]\n",
        "  print(f + 1, feature_name[idx], importances[idx])\n",
        "\n",
        "plt.figure()\n",
        "plt.title(\"Feature importances (poster)\")\n",
        "plt.bar(range(len(poster_indices)),importances[poster_indices])\n",
        "plt.xticks(range(len(poster_indices)), feature_name[poster_indices], rotation='vertical')\n",
        "plt.show()\n",
        "plt.savefig('drive/Shared drives/CS229Movie/FeatureImportance_Poster.eps')"
      ],
      "execution_count": 0,
      "outputs": [
        {
          "output_type": "stream",
          "text": [
            "Poster Feature Importance Ranking:\n",
            "1 hue_sd 0.03671717250534032\n",
            "2 hue 0.03492230459809001\n",
            "3 saturation 0.034029880672423594\n",
            "4 blue_sd 0.03002757317940987\n",
            "5 green_sd 0.028504360681907443\n",
            "6 brightness_sd 0.027315537339223074\n",
            "7 brightness 0.024540990816510115\n",
            "8 num_faces 0.008283618392189851\n"
          ],
          "name": "stdout"
        },
        {
          "output_type": "display_data",
          "data": {
            "image/png": "[encoded data removed]",
            "text/plain": [
              "<Figure size 432x288 with 1 Axes>"
            ]
          },
          "metadata": {
            "tags": []
          }
        },
        {
          "output_type": "display_data",
          "data": {
            "text/plain": [
              "<Figure size 432x288 with 0 Axes>"
            ]
          },
          "metadata": {
            "tags": []
          }
        }
      ]
    },
    {
      "cell_type": "code",
      "metadata": {
        "id": "tcWxuzlayehY",
        "colab_type": "code",
        "outputId": "9494ee4f-2fa6-4a1f-d2bb-4612397f0a3c",
        "colab": {
          "base_uri": "https://localhost:8080/",
          "height": 775
        }
      },
      "source": [
        "print(\"Genre Feature Importance Ranking:\")\n",
        "\n",
        "for f in range(len(genre_indices)):\n",
        "  idx = genre_indices[f]\n",
        "  print(f + 1, feature_name[idx], importances[idx])\n",
        "\n",
        "plt.figure()\n",
        "plt.title(\"Feature importances (genre)\")\n",
        "plt.bar(range(len(genre_indices)),importances[genre_indices])\n",
        "plt.xticks(range(len(genre_indices)), feature_name[genre_indices], rotation='vertical')\n",
        "plt.show()\n",
        "plt.savefig('drive/Shared drives/CS229Movie/FeatureImportance_Genre.eps')"
      ],
      "execution_count": 0,
      "outputs": [
        {
          "output_type": "stream",
          "text": [
            "Genre Feature Importance Ranking:\n",
            "1 documentary 0.1422441944794736\n",
            "2 horror 0.08357367135793568\n",
            "3 drama 0.0509635843000348\n",
            "4 animation 0.021243406070119673\n",
            "5 action 0.02060925186900123\n",
            "6 short 0.010140839489348307\n",
            "7 sci-fi 0.00833280769543361\n",
            "8 thriller 0.00830863813429401\n",
            "9 comedy 0.006180394618029642\n",
            "10 crime 0.004709173612929041\n",
            "11 adventure 0.003271587046211919\n",
            "12 biography 0.003183456566605228\n",
            "13 mystery 0.0029485530220315125\n",
            "14 romance 0.0027203695885681303\n",
            "15 fantasy 0.002637091222969429\n",
            "16 music 0.002036027079664268\n",
            "17 family 0.00189648319848737\n",
            "18 musical 0.0009429844328922936\n",
            "19 sport 0.0009014956412851991\n",
            "20 history 0.0008984612598376572\n",
            "21 war 0.0006373527543911793\n",
            "22 western 0.0004053054800323349\n",
            "23 news 0.0001095808878631754\n"
          ],
          "name": "stdout"
        },
        {
          "output_type": "display_data",
          "data": {
            "image/png": "[encoded data removed]",
            "text/plain": [
              "<Figure size 432x288 with 1 Axes>"
            ]
          },
          "metadata": {
            "tags": []
          }
        },
        {
          "output_type": "display_data",
          "data": {
            "text/plain": [
              "<Figure size 432x288 with 0 Axes>"
            ]
          },
          "metadata": {
            "tags": []
          }
        }
      ]
    },
    {
      "cell_type": "code",
      "metadata": {
        "id": "zbRk3hO80bSR",
        "colab_type": "code",
        "outputId": "0f3bfea0-f515-403a-fabc-c241c91b0e1b",
        "colab": {
          "base_uri": "https://localhost:8080/",
          "height": 567
        }
      },
      "source": [
        "print(\"Director Feature Importance Ranking (Top 10):\")\n",
        "\n",
        "for f in range(10):\n",
        "  idx = director_indices[f]\n",
        "  print(f + 1, feature_name[idx], importances[idx])\n",
        "\n",
        "plt.figure()\n",
        "plt.title(\"Feature importances (top 10 directors)\")\n",
        "plt.bar(range(10),importances[director_indices[:10]])\n",
        "plt.xticks(range(10), feature_name[director_indices[:10]], rotation='vertical')\n",
        "plt.show()\n",
        "plt.savefig('drive/Shared drives/CS229Movie/FeatureImportance_Director.eps')"
      ],
      "execution_count": 0,
      "outputs": [
        {
          "output_type": "stream",
          "text": [
            "Director Feature Importance Ranking (Top 10):\n",
            "1 tyler perry 0.0016153423253181093\n",
            "2 woody allen 0.0013275135221576238\n",
            "3 craig moss 0.0011491057419322458\n",
            "4 uwe boll 0.0007764900611206415\n",
            "5 steven r. monroe 0.0006314454310220677\n",
            "6 stewart raffill 0.0005907426818814123\n",
            "7 sean mcnamara 0.0005705326715050454\n",
            "8 fred olen ray 0.0005605291142887452\n",
            "9 tom clegg 0.0005477865868557429\n",
            "10 don michael paul 0.0004849788851569984\n"
          ],
          "name": "stdout"
        },
        {
          "output_type": "display_data",
          "data": {
            "image/png": "[encoded data removed]",
            "text/plain": [
              "<Figure size 432x288 with 1 Axes>"
            ]
          },
          "metadata": {
            "tags": []
          }
        },
        {
          "output_type": "display_data",
          "data": {
            "text/plain": [
              "<Figure size 432x288 with 0 Axes>"
            ]
          },
          "metadata": {
            "tags": []
          }
        }
      ]
    },
    {
      "cell_type": "code",
      "metadata": {
        "id": "oj5FVxdxWk0q",
        "colab_type": "code",
        "outputId": "3d25b8ca-63a8-4003-d33b-fd54097b4687",
        "colab": {
          "base_uri": "https://localhost:8080/",
          "height": 587
        }
      },
      "source": [
        "print(\"Actor Feature Importance Ranking (Top 10):\")\n",
        "\n",
        "for f in range(10):\n",
        "  idx = actor_indices[f]\n",
        "  print(f + 1, feature_name[idx], importances[idx])\n",
        "\n",
        "plt.figure()\n",
        "plt.title(\"Feature importances (top 10 actors)\")\n",
        "plt.bar(range(10),importances[actor_indices[:10]])\n",
        "plt.xticks(range(10), feature_name[actor_indices[:10]], rotation='vertical')\n",
        "plt.show()\n",
        "plt.savefig('drive/Shared drives/CS229Movie/FeatureImportance_Actor.eps')"
      ],
      "execution_count": 0,
      "outputs": [
        {
          "output_type": "stream",
          "text": [
            "Actor Feature Importance Ranking (Top 10):\n",
            "1 stephen baldwin 0.00097372918681564\n",
            "2 thomas kretschmann 0.0009596875256154656\n",
            "3 lauren bacall 0.0008026018153381338\n",
            "4 manisha koirala 0.0007703100595298186\n",
            "5 angie everhart 0.0006715889036562849\n",
            "6 mischa barton 0.0006677503468590948\n",
            "7 kirk cameron 0.0006317293873173731\n",
            "8 daragh o'malley 0.000609087608756056\n",
            "9 joel david moore 0.0005844366680127358\n",
            "10 danny trejo 0.0005766933537795199\n"
          ],
          "name": "stdout"
        },
        {
          "output_type": "display_data",
          "data": {
            "image/png": "[encoded data removed]",
            "text/plain": [
              "<Figure size 432x288 with 1 Axes>"
            ]
          },
          "metadata": {
            "tags": []
          }
        },
        {
          "output_type": "display_data",
          "data": {
            "text/plain": [
              "<Figure size 432x288 with 0 Axes>"
            ]
          },
          "metadata": {
            "tags": []
          }
        }
      ]
    },
    {
      "cell_type": "code",
      "metadata": {
        "id": "JbkQ9WoY16N1",
        "colab_type": "code",
        "outputId": "30e1bae5-7d59-4322-aef1-85051a392b8d",
        "colab": {
          "base_uri": "https://localhost:8080/",
          "height": 882
        }
      },
      "source": [
        "print(\"Word in Overview Feature Importance Ranking (Top 30):\")\n",
        "\n",
        "for f in range(3, 33):\n",
        "  idx = overview_indices[f]\n",
        "  print(f -3 + 1, feature_name[idx], importances[idx])\n",
        "\n",
        "plt.figure()\n",
        "plt.title(\"Feature importances (top 20 words in overview)\")\n",
        "plt.bar(range(20),importances[overview_indices[3:23]])\n",
        "plt.xticks(range(20), feature_name[overview_indices[3:23]], rotation='vertical')\n",
        "plt.show()\n",
        "plt.savefig('drive/Shared drives/CS229Movie/FeatureImportance_overview.eps')"
      ],
      "execution_count": 0,
      "outputs": [
        {
          "output_type": "stream",
          "text": [
            "Word in Overview Feature Importance Ranking (Top 30):\n",
            "1   5.872537037501736e-06\n",
            "2 recently 0.0\n",
            "3 brought 0.0\n",
            "4 different 0.0\n",
            "5 kind 0.0\n",
            "6 damage 0.0\n",
            "7 grieving 0.0\n",
            "8 father 0.0\n",
            "9 spiral 0.0\n",
            "10 innocence 0.0\n",
            "11 stumbles 0.0\n",
            "12 box 0.0\n",
            "13 some 0.0\n",
            "14 deceased 0.0\n",
            "15 discovery 0.0\n",
            "16 unknown 0.0\n",
            "17 talent 0.0\n",
            "18 forms 0.0\n",
            "19 band 0.0\n",
            "20 hope 0.0\n",
            "21 finding 0.0\n",
            "22 survivor 0.0\n",
            "23 Josh 0.0\n",
            "24 greatest 0.0\n",
            "25 players 0.0\n",
            "26 loss 0.0\n",
            "27 arrives 0.0\n",
            "28 teenage 0.0\n",
            "29 apart 0.0\n",
            "30 however 0.0\n"
          ],
          "name": "stdout"
        },
        {
          "output_type": "display_data",
          "data": {
            "image/png": "[encoded data removed]",
            "text/plain": [
              "<Figure size 432x288 with 1 Axes>"
            ]
          },
          "metadata": {
            "tags": []
          }
        },
        {
          "output_type": "display_data",
          "data": {
            "text/plain": [
              "<Figure size 432x288 with 0 Axes>"
            ]
          },
          "metadata": {
            "tags": []
          }
        }
      ]
    },
    {
      "cell_type": "code",
      "metadata": {
        "id": "v_To1Kr3jssv",
        "colab_type": "code",
        "colab": {}
      },
      "source": [
        "print(size())"
      ],
      "execution_count": 0,
      "outputs": []
    }
  ]
}