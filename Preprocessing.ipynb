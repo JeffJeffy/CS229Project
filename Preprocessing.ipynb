{
  "nbformat": 4,
  "nbformat_minor": 0,
  "metadata": {
    "colab": {
      "name": "Preprocessing.ipynb",
      "provenance": [],
      "collapsed_sections": []
    },
    "kernelspec": {
      "name": "python3",
      "display_name": "Python 3"
    }
  },
  "cells": [
    {
      "cell_type": "code",
      "metadata": {
        "id": "6czzqk_ZBf1V",
        "colab_type": "code",
        "outputId": "ad44a84a-d6c1-46b1-9d66-e8f632e56ff9",
        "colab": {
          "base_uri": "https://localhost:8080/",
          "height": 36
        }
      },
      "source": [
        "import pandas as pd\n",
        "import numpy as np\n",
        "from google.colab import drive\n",
        "\n",
        "drive.mount(\"/content/drive\")"
      ],
      "execution_count": 0,
      "outputs": [
        {
          "output_type": "stream",
          "text": [
            "Drive already mounted at /content/drive; to attempt to forcibly remount, call drive.mount(\"/content/drive\", force_remount=True).\n"
          ],
          "name": "stdout"
        }
      ]
    },
    {
      "cell_type": "code",
      "metadata": {
        "id": "oBp-6WCnCUt2",
        "colab_type": "code",
        "outputId": "ac8a5cd1-6a3a-4b80-88e4-929fdbc34596",
        "colab": {
          "base_uri": "https://localhost:8080/",
          "height": 54
        }
      },
      "source": [
        "meta = pd.read_csv(\"drive/My Drive/movies_metadata.csv\", encoding='latin1')\n",
        "imdb = pd.read_csv(\"drive/My Drive/MovieGenre.csv\", encoding='latin1')\n",
        "credits = pd.read_csv(\"drive/My Drive/credits.csv\", encoding='latin1')\n",
        "keywords = pd.read_csv(\"drive/My Drive/keywords.csv\", encoding='latin1')"
      ],
      "execution_count": 0,
      "outputs": [
        {
          "output_type": "stream",
          "text": [
            "/usr/local/lib/python3.6/dist-packages/IPython/core/interactiveshell.py:2718: DtypeWarning: Columns (10) have mixed types. Specify dtype option on import or set low_memory=False.\n",
            "  interactivity=interactivity, compiler=compiler, result=result)\n"
          ],
          "name": "stderr"
        }
      ]
    },
    {
      "cell_type": "code",
      "metadata": {
        "id": "NqjdBL2JCyvp",
        "colab_type": "code",
        "outputId": "0b68f130-194a-4b11-ea75-55e47bd05da5",
        "colab": {
          "base_uri": "https://localhost:8080/",
          "height": 92
        }
      },
      "source": [
        "print(meta.shape)\n",
        "print(imdb.shape)\n",
        "print(credits.shape)\n",
        "print(keywords.shape)"
      ],
      "execution_count": 0,
      "outputs": [
        {
          "output_type": "stream",
          "text": [
            "(45466, 24)\n",
            "(40108, 6)\n",
            "(45476, 3)\n",
            "(46419, 2)\n"
          ],
          "name": "stdout"
        }
      ]
    },
    {
      "cell_type": "code",
      "metadata": {
        "id": "0QEYLaoBEipY",
        "colab_type": "code",
        "colab": {}
      },
      "source": [
        "meta['posterID'] = np.arange(meta.shape[0])\n",
        "meta_cleaned = meta.copy()\n",
        "meta_cleaned = meta_cleaned[meta_cleaned['imdb_id']!='0']\n",
        "meta_cleaned['imdb_id'] = meta_cleaned['imdb_id'].str.replace('tt','')"
      ],
      "execution_count": 0,
      "outputs": []
    },
    {
      "cell_type": "code",
      "metadata": {
        "id": "tunwdNvBXmWD",
        "colab_type": "code",
        "colab": {}
      },
      "source": [
        "meta_cleaned['imdb_id'] = pd.to_numeric(meta_cleaned['imdb_id'])\n",
        "meta_cleaned = meta_cleaned[~np.isnan(meta_cleaned['imdb_id'])]\n",
        "meta_cleaned['imdb_id'] = meta_cleaned['imdb_id'].astype(int)\n",
        "meta_cleaned = meta_cleaned.drop_duplicates(subset=['imdb_id'], keep=False)"
      ],
      "execution_count": 0,
      "outputs": []
    },
    {
      "cell_type": "code",
      "metadata": {
        "id": "Xp9s01pRGFl3",
        "colab_type": "code",
        "outputId": "e16e553a-289d-40ab-ef6a-969380700d08",
        "colab": {
          "base_uri": "https://localhost:8080/",
          "height": 36
        }
      },
      "source": [
        "meta_cleaned.shape[0]"
      ],
      "execution_count": 0,
      "outputs": [
        {
          "output_type": "execute_result",
          "data": {
            "text/plain": [
              "45387"
            ]
          },
          "metadata": {
            "tags": []
          },
          "execution_count": 97
        }
      ]
    },
    {
      "cell_type": "code",
      "metadata": {
        "id": "VMWpjUnpYxEo",
        "colab_type": "code",
        "outputId": "daecb4bc-d046-4444-b479-803edff64a8a",
        "colab": {
          "base_uri": "https://localhost:8080/",
          "height": 36
        }
      },
      "source": [
        "imdb_cleaned = imdb.rename(columns={'imdbId': 'imdb_id'})\n",
        "imdb_cleaned = imdb_cleaned.drop_duplicates(subset=['imdb_id'], keep=False)\n",
        "imdb_cleaned.shape[0]"
      ],
      "execution_count": 0,
      "outputs": [
        {
          "output_type": "execute_result",
          "data": {
            "text/plain": [
              "38922"
            ]
          },
          "metadata": {
            "tags": []
          },
          "execution_count": 98
        }
      ]
    },
    {
      "cell_type": "code",
      "metadata": {
        "id": "RlEP2CSOabfG",
        "colab_type": "code",
        "outputId": "bcf7572a-842d-41bd-edaa-6a2acfd65c54",
        "colab": {
          "base_uri": "https://localhost:8080/",
          "height": 54
        }
      },
      "source": [
        "credits_cleaned = credits.drop_duplicates(subset=['id'], keep=False)\n",
        "keywords_cleaned = keywords.drop_duplicates(subset=['id'], keep=False)\n",
        "print(credits_cleaned.shape[0])\n",
        "print(keywords_cleaned.shape[0])"
      ],
      "execution_count": 0,
      "outputs": [
        {
          "output_type": "stream",
          "text": [
            "45389\n",
            "44447\n"
          ],
          "name": "stdout"
        }
      ]
    },
    {
      "cell_type": "code",
      "metadata": {
        "id": "b6XRbJWEb8lg",
        "colab_type": "code",
        "colab": {}
      },
      "source": [
        "meta_cleaned['id'] = meta_cleaned['id'].astype(int)"
      ],
      "execution_count": 0,
      "outputs": []
    },
    {
      "cell_type": "code",
      "metadata": {
        "id": "LNPyjw8DbLOk",
        "colab_type": "code",
        "colab": {}
      },
      "source": [
        "combined = pd.merge(meta_cleaned, credits_cleaned, on='id')\n",
        "combined = pd.merge(combined, keywords_cleaned, on='id')\n",
        "combined = pd.merge(combined, imdb_cleaned, on='imdb_id')"
      ],
      "execution_count": 0,
      "outputs": []
    },
    {
      "cell_type": "code",
      "metadata": {
        "id": "euAZF2-1b2Ct",
        "colab_type": "code",
        "outputId": "c2f1aa3e-8f92-4382-a3c9-aa44ce7e499a",
        "colab": {
          "base_uri": "https://localhost:8080/",
          "height": 36
        }
      },
      "source": [
        "combined.shape"
      ],
      "execution_count": 0,
      "outputs": [
        {
          "output_type": "execute_result",
          "data": {
            "text/plain": [
              "(37504, 33)"
            ]
          },
          "metadata": {
            "tags": []
          },
          "execution_count": 104
        }
      ]
    },
    {
      "cell_type": "code",
      "metadata": {
        "id": "QOEpl_4sd9vV",
        "colab_type": "code",
        "colab": {}
      },
      "source": [
        "combined['posterID'] = combined['posterID'].astype(str) + \".jpg\""
      ],
      "execution_count": 0,
      "outputs": []
    },
    {
      "cell_type": "code",
      "metadata": {
        "id": "NSoH-8hXdV9R",
        "colab_type": "code",
        "colab": {}
      },
      "source": [
        "all_data = combined.copy()"
      ],
      "execution_count": 0,
      "outputs": []
    },
    {
      "cell_type": "code",
      "metadata": {
        "id": "CaQHyOAwgRdU",
        "colab_type": "code",
        "colab": {}
      },
      "source": [
        "!unzip \"/content/drive/My Drive/Colab Notebooks/poster.zip\""
      ],
      "execution_count": 0,
      "outputs": []
    },
    {
      "cell_type": "code",
      "metadata": {
        "id": "9h0nqd08flML",
        "colab_type": "code",
        "outputId": "0feb0539-40a5-4503-e37f-86c6e7498673",
        "colab": {
          "base_uri": "https://localhost:8080/",
          "height": 36
        }
      },
      "source": [
        "import os\n",
        "\n",
        "n = meta.shape[0]\n",
        "\n",
        "failed = []\n",
        "for i in range(n):\n",
        "    if not os.path.exists(\"poster/\" + str(i) + \".jpg\"):\n",
        "        failed.append(i)\n",
        "        \n",
        "indices = list(map(lambda x: x not in failed, all_data['posterID'].str.replace('.jpg','').astype(int)))\n",
        "all_data = all_data[indices]\n",
        "print(all_data.shape)"
      ],
      "execution_count": 0,
      "outputs": [
        {
          "output_type": "stream",
          "text": [
            "(37210, 33)\n"
          ],
          "name": "stdout"
        }
      ]
    },
    {
      "cell_type": "code",
      "metadata": {
        "id": "CiQh5s4dmlE2",
        "colab_type": "code",
        "colab": {}
      },
      "source": [
        "all_data = all_data.reset_index(drop=True)"
      ],
      "execution_count": 0,
      "outputs": []
    },
    {
      "cell_type": "code",
      "metadata": {
        "id": "ltZv41Phcmh3",
        "colab_type": "code",
        "outputId": "87da72f4-2863-4961-c1fb-dd501e41bd82",
        "colab": {
          "base_uri": "https://localhost:8080/",
          "height": 729
        }
      },
      "source": [
        "import cv2\n",
        "\n",
        "faceCascade = cv2.CascadeClassifier(cv2.data.haarcascades + \"haarcascade_frontalface_alt.xml\")\n",
        "num_faces = np.zeros(all_data.shape[0])\n",
        "\n",
        "brightness = np.zeros(all_data.shape[0])\n",
        "saturation = np.zeros(all_data.shape[0])\n",
        "hue = np.zeros(all_data.shape[0])\n",
        "brightness_sd = np.zeros(all_data.shape[0])\n",
        "saturation_sd = np.zeros(all_data.shape[0])\n",
        "hue_sd = np.zeros(all_data.shape[0])\n",
        "\n",
        "blue = np.zeros(all_data.shape[0])\n",
        "blue_sd = np.zeros(all_data.shape[0])\n",
        "green = np.zeros(all_data.shape[0])\n",
        "green_sd = np.zeros(all_data.shape[0])\n",
        "red = np.zeros(all_data.shape[0])\n",
        "red_sd = np.zeros(all_data.shape[0])\n",
        "\n",
        "for i in range(all_data.shape[0]):\n",
        "  image = cv2.imread('poster/' + all_data['posterID'][i])\n",
        "  gray = cv2.cvtColor(image, cv2.COLOR_BGR2GRAY)\n",
        "  faces = faceCascade.detectMultiScale(gray, minSize=(100, 100))\n",
        "  num_faces[i] = len(faces)\n",
        "\n",
        "  hsv = cv2.cvtColor(image, cv2.COLOR_BGR2HSV)\n",
        "  brightness[i] = np.mean(hsv[:,:,2])\n",
        "  saturation[i] = np.mean(hsv[:,:,1])\n",
        "  hue[i] = np.mean(hsv[:,:,0])\n",
        "  brightness_sd[i] = np.std(hsv[:,:,2])\n",
        "  saturation_sd[i] = np.std(hsv[:,:,1])\n",
        "  hue_sd[i] = np.std(hsv[:,:,0])\n",
        "\n",
        "  blue[i] = np.mean(image[:,:,0])\n",
        "  green[i] = np.mean(image[:,:,1])\n",
        "  red[i] = np.mean(image[:,:,2])\n",
        "  blue_sd[i] = np.std(image[:,:,0])\n",
        "  green_sd[i] = np.std(image[:,:,1])\n",
        "  red_sd[i] = np.std(image[:,:,2])\n",
        "\n",
        "  if i % 1000 == 0:\n",
        "    print(\"iter\", i)"
      ],
      "execution_count": 0,
      "outputs": [
        {
          "output_type": "stream",
          "text": [
            "iter 0\n",
            "iter 1000\n",
            "iter 2000\n",
            "iter 3000\n",
            "iter 4000\n",
            "iter 5000\n",
            "iter 6000\n",
            "iter 7000\n",
            "iter 8000\n",
            "iter 9000\n",
            "iter 10000\n",
            "iter 11000\n",
            "iter 12000\n",
            "iter 13000\n",
            "iter 14000\n",
            "iter 15000\n",
            "iter 16000\n",
            "iter 17000\n",
            "iter 18000\n",
            "iter 19000\n",
            "iter 20000\n",
            "iter 21000\n",
            "iter 22000\n",
            "iter 23000\n",
            "iter 24000\n",
            "iter 25000\n",
            "iter 26000\n",
            "iter 27000\n",
            "iter 28000\n",
            "iter 29000\n",
            "iter 30000\n",
            "iter 31000\n",
            "iter 32000\n",
            "iter 33000\n",
            "iter 34000\n",
            "iter 35000\n",
            "iter 36000\n",
            "iter 37000\n"
          ],
          "name": "stdout"
        }
      ]
    },
    {
      "cell_type": "code",
      "metadata": {
        "id": "TyicsFgVeKIP",
        "colab_type": "code",
        "colab": {}
      },
      "source": [
        "all_data['num_faces'] = num_faces\n",
        "\n",
        "all_data['brightness'] = brightness\n",
        "all_data['saturation'] = saturation\n",
        "all_data['hue'] = hue\n",
        "all_data['brightness_sd'] = brightness_sd\n",
        "all_data['saturation_sd '] = saturation_sd\n",
        "all_data['hue_sd'] = hue_sd\n",
        "\n",
        "all_data['blue'] = blue\n",
        "all_data['blue_sd'] = blue_sd\n",
        "all_data['green'] = green\n",
        "all_data['green_sd'] = green_sd\n",
        "all_data['red'] = red\n",
        "all_data['red_sd '] = red_sd"
      ],
      "execution_count": 0,
      "outputs": []
    },
    {
      "cell_type": "code",
      "metadata": {
        "id": "kL-LbNpq00Tt",
        "colab_type": "code",
        "outputId": "ca0b7de4-e944-474b-ff10-c072c98c1dee",
        "colab": {
          "base_uri": "https://localhost:8080/",
          "height": 36
        }
      },
      "source": [
        "all_data.shape"
      ],
      "execution_count": 0,
      "outputs": [
        {
          "output_type": "execute_result",
          "data": {
            "text/plain": [
              "(37210, 46)"
            ]
          },
          "metadata": {
            "tags": []
          },
          "execution_count": 151
        }
      ]
    },
    {
      "cell_type": "code",
      "metadata": {
        "id": "7-Akeh-QvR-_",
        "colab_type": "code",
        "colab": {}
      },
      "source": [
        "all_data.to_csv(\"drive/My Drive/preprocessed.csv\", index = False)"
      ],
      "execution_count": 0,
      "outputs": []
    },
    {
      "cell_type": "code",
      "metadata": {
        "id": "TjG3ZOKB1EYG",
        "colab_type": "code",
        "outputId": "9fc3ee81-3326-4a59-d413-7b48ca7b3202",
        "colab": {
          "base_uri": "https://localhost:8080/",
          "height": 712
        }
      },
      "source": [
        "all_data.head()"
      ],
      "execution_count": 0,
      "outputs": [
        {
          "output_type": "execute_result",
          "data": {
            "text/html": [
              "<div>\n",
              "<style scoped>\n",
              "    .dataframe tbody tr th:only-of-type {\n",
              "        vertical-align: middle;\n",
              "    }\n",
              "\n",
              "    .dataframe tbody tr th {\n",
              "        vertical-align: top;\n",
              "    }\n",
              "\n",
              "    .dataframe thead th {\n",
              "        text-align: right;\n",
              "    }\n",
              "</style>\n",
              "<table border=\"1\" class=\"dataframe\">\n",
              "  <thead>\n",
              "    <tr style=\"text-align: right;\">\n",
              "      <th></th>\n",
              "      <th>adult</th>\n",
              "      <th>belongs_to_collection</th>\n",
              "      <th>budget</th>\n",
              "      <th>genres</th>\n",
              "      <th>homepage</th>\n",
              "      <th>id</th>\n",
              "      <th>imdb_id</th>\n",
              "      <th>original_language</th>\n",
              "      <th>original_title</th>\n",
              "      <th>overview</th>\n",
              "      <th>popularity</th>\n",
              "      <th>poster_path</th>\n",
              "      <th>production_companies</th>\n",
              "      <th>production_countries</th>\n",
              "      <th>release_date</th>\n",
              "      <th>revenue</th>\n",
              "      <th>runtime</th>\n",
              "      <th>spoken_languages</th>\n",
              "      <th>status</th>\n",
              "      <th>tagline</th>\n",
              "      <th>title</th>\n",
              "      <th>video</th>\n",
              "      <th>vote_average</th>\n",
              "      <th>vote_count</th>\n",
              "      <th>posterID</th>\n",
              "      <th>cast</th>\n",
              "      <th>crew</th>\n",
              "      <th>keywords</th>\n",
              "      <th>Imdb Link</th>\n",
              "      <th>Title</th>\n",
              "      <th>IMDB Score</th>\n",
              "      <th>Genre</th>\n",
              "      <th>Poster</th>\n",
              "      <th>num_faces</th>\n",
              "      <th>brightness</th>\n",
              "      <th>saturation</th>\n",
              "      <th>hue</th>\n",
              "      <th>brightness_sd</th>\n",
              "      <th>saturation_sd</th>\n",
              "      <th>hue_sd</th>\n",
              "      <th>blue</th>\n",
              "      <th>blue_sd</th>\n",
              "      <th>green</th>\n",
              "      <th>green_sd</th>\n",
              "      <th>red</th>\n",
              "      <th>red_sd</th>\n",
              "    </tr>\n",
              "  </thead>\n",
              "  <tbody>\n",
              "    <tr>\n",
              "      <th>0</th>\n",
              "      <td>False</td>\n",
              "      <td>{'id': 10194, 'name': 'Toy Story Collection', ...</td>\n",
              "      <td>30000000</td>\n",
              "      <td>[{'id': 16, 'name': 'Animation'}, {'id': 35, '...</td>\n",
              "      <td>http://toystory.disney.com/toy-story</td>\n",
              "      <td>862</td>\n",
              "      <td>114709</td>\n",
              "      <td>en</td>\n",
              "      <td>Toy Story</td>\n",
              "      <td>Led by Woody, Andy's toys live happily in his ...</td>\n",
              "      <td>21.9469</td>\n",
              "      <td>/rhIRbceoE9lR4veEXuwCC2wARtG.jpg</td>\n",
              "      <td>[{'name': 'Pixar Animation Studios', 'id': 3}]</td>\n",
              "      <td>[{'iso_3166_1': 'US', 'name': 'United States o...</td>\n",
              "      <td>1995-10-30</td>\n",
              "      <td>373554033.0</td>\n",
              "      <td>81.0</td>\n",
              "      <td>[{'iso_639_1': 'en', 'name': 'English'}]</td>\n",
              "      <td>Released</td>\n",
              "      <td>NaN</td>\n",
              "      <td>Toy Story</td>\n",
              "      <td>False</td>\n",
              "      <td>7.7</td>\n",
              "      <td>5415.0</td>\n",
              "      <td>0.jpg</td>\n",
              "      <td>[{'cast_id': 14, 'character': 'Woody (voice)',...</td>\n",
              "      <td>[{'credit_id': '52fe4284c3a36847f8024f49', 'de...</td>\n",
              "      <td>[{'id': 931, 'name': 'jealousy'}, {'id': 4290,...</td>\n",
              "      <td>http://www.imdb.com/title/tt114709</td>\n",
              "      <td>Toy Story (1995)</td>\n",
              "      <td>8.3</td>\n",
              "      <td>Animation|Adventure|Comedy</td>\n",
              "      <td>https://images-na.ssl-images-amazon.com/images...</td>\n",
              "      <td>0.0</td>\n",
              "      <td>184.775439</td>\n",
              "      <td>190.399400</td>\n",
              "      <td>82.805137</td>\n",
              "      <td>58.496526</td>\n",
              "      <td>80.933495</td>\n",
              "      <td>46.984021</td>\n",
              "      <td>147.046133</td>\n",
              "      <td>83.046441</td>\n",
              "      <td>127.812661</td>\n",
              "      <td>59.618615</td>\n",
              "      <td>79.571854</td>\n",
              "      <td>88.574055</td>\n",
              "    </tr>\n",
              "    <tr>\n",
              "      <th>1</th>\n",
              "      <td>False</td>\n",
              "      <td>NaN</td>\n",
              "      <td>65000000</td>\n",
              "      <td>[{'id': 12, 'name': 'Adventure'}, {'id': 14, '...</td>\n",
              "      <td>NaN</td>\n",
              "      <td>8844</td>\n",
              "      <td>113497</td>\n",
              "      <td>en</td>\n",
              "      <td>Jumanji</td>\n",
              "      <td>When siblings Judy and Peter discover an encha...</td>\n",
              "      <td>17.0155</td>\n",
              "      <td>/vzmL6fP7aPKNKPRTFnZmiUfciyV.jpg</td>\n",
              "      <td>[{'name': 'TriStar Pictures', 'id': 559}, {'na...</td>\n",
              "      <td>[{'iso_3166_1': 'US', 'name': 'United States o...</td>\n",
              "      <td>1995-12-15</td>\n",
              "      <td>262797249.0</td>\n",
              "      <td>104.0</td>\n",
              "      <td>[{'iso_639_1': 'en', 'name': 'English'}, {'iso...</td>\n",
              "      <td>Released</td>\n",
              "      <td>Roll the dice and unleash the excitement!</td>\n",
              "      <td>Jumanji</td>\n",
              "      <td>False</td>\n",
              "      <td>6.9</td>\n",
              "      <td>2413.0</td>\n",
              "      <td>1.jpg</td>\n",
              "      <td>[{'cast_id': 1, 'character': 'Alan Parrish', '...</td>\n",
              "      <td>[{'credit_id': '52fe44bfc3a36847f80a7cd1', 'de...</td>\n",
              "      <td>[{'id': 10090, 'name': 'board game'}, {'id': 1...</td>\n",
              "      <td>http://www.imdb.com/title/tt113497</td>\n",
              "      <td>Jumanji (1995)</td>\n",
              "      <td>6.9</td>\n",
              "      <td>Action|Adventure|Family</td>\n",
              "      <td>https://images-na.ssl-images-amazon.com/images...</td>\n",
              "      <td>0.0</td>\n",
              "      <td>166.807096</td>\n",
              "      <td>91.547633</td>\n",
              "      <td>65.296239</td>\n",
              "      <td>83.413251</td>\n",
              "      <td>67.319422</td>\n",
              "      <td>61.296055</td>\n",
              "      <td>132.472598</td>\n",
              "      <td>84.508776</td>\n",
              "      <td>137.041430</td>\n",
              "      <td>79.140584</td>\n",
              "      <td>137.619493</td>\n",
              "      <td>85.319415</td>\n",
              "    </tr>\n",
              "    <tr>\n",
              "      <th>2</th>\n",
              "      <td>False</td>\n",
              "      <td>{'id': 119050, 'name': 'Grumpy Old Men Collect...</td>\n",
              "      <td>0</td>\n",
              "      <td>[{'id': 10749, 'name': 'Romance'}, {'id': 35, ...</td>\n",
              "      <td>NaN</td>\n",
              "      <td>15602</td>\n",
              "      <td>113228</td>\n",
              "      <td>en</td>\n",
              "      <td>Grumpier Old Men</td>\n",
              "      <td>A family wedding reignites the ancient feud be...</td>\n",
              "      <td>11.7129</td>\n",
              "      <td>/6ksm1sjKMFLbO7UY2i6G1ju9SML.jpg</td>\n",
              "      <td>[{'name': 'Warner Bros.', 'id': 6194}, {'name'...</td>\n",
              "      <td>[{'iso_3166_1': 'US', 'name': 'United States o...</td>\n",
              "      <td>1995-12-22</td>\n",
              "      <td>0.0</td>\n",
              "      <td>101.0</td>\n",
              "      <td>[{'iso_639_1': 'en', 'name': 'English'}]</td>\n",
              "      <td>Released</td>\n",
              "      <td>Still Yelling. Still Fighting. Still Ready for...</td>\n",
              "      <td>Grumpier Old Men</td>\n",
              "      <td>False</td>\n",
              "      <td>6.5</td>\n",
              "      <td>92.0</td>\n",
              "      <td>2.jpg</td>\n",
              "      <td>[{'cast_id': 2, 'character': 'Max Goldman', 'c...</td>\n",
              "      <td>[{'credit_id': '52fe466a9251416c75077a89', 'de...</td>\n",
              "      <td>[{'id': 1495, 'name': 'fishing'}, {'id': 12392...</td>\n",
              "      <td>http://www.imdb.com/title/tt113228</td>\n",
              "      <td>Grumpier Old Men (1995)</td>\n",
              "      <td>6.6</td>\n",
              "      <td>Comedy|Romance</td>\n",
              "      <td>https://images-na.ssl-images-amazon.com/images...</td>\n",
              "      <td>0.0</td>\n",
              "      <td>139.380694</td>\n",
              "      <td>112.907880</td>\n",
              "      <td>48.908106</td>\n",
              "      <td>94.073346</td>\n",
              "      <td>70.979805</td>\n",
              "      <td>65.406756</td>\n",
              "      <td>97.464385</td>\n",
              "      <td>78.935691</td>\n",
              "      <td>106.743824</td>\n",
              "      <td>89.725921</td>\n",
              "      <td>136.728580</td>\n",
              "      <td>96.124722</td>\n",
              "    </tr>\n",
              "    <tr>\n",
              "      <th>3</th>\n",
              "      <td>False</td>\n",
              "      <td>NaN</td>\n",
              "      <td>16000000</td>\n",
              "      <td>[{'id': 35, 'name': 'Comedy'}, {'id': 18, 'nam...</td>\n",
              "      <td>NaN</td>\n",
              "      <td>31357</td>\n",
              "      <td>114885</td>\n",
              "      <td>en</td>\n",
              "      <td>Waiting to Exhale</td>\n",
              "      <td>Cheated on, mistreated and stepped on, the wom...</td>\n",
              "      <td>3.85949</td>\n",
              "      <td>/16XOMpEaLWkrcPqSQqhTmeJuqQl.jpg</td>\n",
              "      <td>[{'name': 'Twentieth Century Fox Film Corporat...</td>\n",
              "      <td>[{'iso_3166_1': 'US', 'name': 'United States o...</td>\n",
              "      <td>1995-12-22</td>\n",
              "      <td>81452156.0</td>\n",
              "      <td>127.0</td>\n",
              "      <td>[{'iso_639_1': 'en', 'name': 'English'}]</td>\n",
              "      <td>Released</td>\n",
              "      <td>Friends are the people who let you be yourself...</td>\n",
              "      <td>Waiting to Exhale</td>\n",
              "      <td>False</td>\n",
              "      <td>6.1</td>\n",
              "      <td>34.0</td>\n",
              "      <td>3.jpg</td>\n",
              "      <td>[{'cast_id': 1, 'character': \"Savannah 'Vannah...</td>\n",
              "      <td>[{'credit_id': '52fe44779251416c91011acb', 'de...</td>\n",
              "      <td>[{'id': 818, 'name': 'based on novel'}, {'id':...</td>\n",
              "      <td>http://www.imdb.com/title/tt114885</td>\n",
              "      <td>Waiting to Exhale (1995)</td>\n",
              "      <td>5.7</td>\n",
              "      <td>Comedy|Drama|Romance</td>\n",
              "      <td>https://images-na.ssl-images-amazon.com/images...</td>\n",
              "      <td>1.0</td>\n",
              "      <td>193.179470</td>\n",
              "      <td>78.009035</td>\n",
              "      <td>43.298337</td>\n",
              "      <td>71.637853</td>\n",
              "      <td>74.316934</td>\n",
              "      <td>57.431210</td>\n",
              "      <td>148.388970</td>\n",
              "      <td>88.371216</td>\n",
              "      <td>161.866089</td>\n",
              "      <td>82.379306</td>\n",
              "      <td>191.924122</td>\n",
              "      <td>72.849543</td>\n",
              "    </tr>\n",
              "    <tr>\n",
              "      <th>4</th>\n",
              "      <td>False</td>\n",
              "      <td>{'id': 96871, 'name': 'Father of the Bride Col...</td>\n",
              "      <td>0</td>\n",
              "      <td>[{'id': 35, 'name': 'Comedy'}]</td>\n",
              "      <td>NaN</td>\n",
              "      <td>11862</td>\n",
              "      <td>113041</td>\n",
              "      <td>en</td>\n",
              "      <td>Father of the Bride Part II</td>\n",
              "      <td>Just when George Banks has recovered from his ...</td>\n",
              "      <td>8.38752</td>\n",
              "      <td>/e64sOI48hQXyru7naBFyssKFxVd.jpg</td>\n",
              "      <td>[{'name': 'Sandollar Productions', 'id': 5842}...</td>\n",
              "      <td>[{'iso_3166_1': 'US', 'name': 'United States o...</td>\n",
              "      <td>1995-02-10</td>\n",
              "      <td>76578911.0</td>\n",
              "      <td>106.0</td>\n",
              "      <td>[{'iso_639_1': 'en', 'name': 'English'}]</td>\n",
              "      <td>Released</td>\n",
              "      <td>Just When His World Is Back To Normal... He's ...</td>\n",
              "      <td>Father of the Bride Part II</td>\n",
              "      <td>False</td>\n",
              "      <td>5.7</td>\n",
              "      <td>173.0</td>\n",
              "      <td>4.jpg</td>\n",
              "      <td>[{'cast_id': 1, 'character': 'George Banks', '...</td>\n",
              "      <td>[{'credit_id': '52fe44959251416c75039ed7', 'de...</td>\n",
              "      <td>[{'id': 1009, 'name': 'baby'}, {'id': 1599, 'n...</td>\n",
              "      <td>http://www.imdb.com/title/tt113041</td>\n",
              "      <td>Father of the Bride Part II (1995)</td>\n",
              "      <td>5.9</td>\n",
              "      <td>Comedy|Family|Romance</td>\n",
              "      <td>https://images-na.ssl-images-amazon.com/images...</td>\n",
              "      <td>1.0</td>\n",
              "      <td>140.167369</td>\n",
              "      <td>120.689856</td>\n",
              "      <td>19.093691</td>\n",
              "      <td>102.482222</td>\n",
              "      <td>85.251258</td>\n",
              "      <td>28.312941</td>\n",
              "      <td>94.287052</td>\n",
              "      <td>98.054007</td>\n",
              "      <td>110.440328</td>\n",
              "      <td>99.236678</td>\n",
              "      <td>136.537094</td>\n",
              "      <td>104.796367</td>\n",
              "    </tr>\n",
              "  </tbody>\n",
              "</table>\n",
              "</div>"
            ],
            "text/plain": [
              "   adult  ...     red_sd \n",
              "0  False  ...   88.574055\n",
              "1  False  ...   85.319415\n",
              "2  False  ...   96.124722\n",
              "3  False  ...   72.849543\n",
              "4  False  ...  104.796367\n",
              "\n",
              "[5 rows x 46 columns]"
            ]
          },
          "metadata": {
            "tags": []
          },
          "execution_count": 154
        }
      ]
    },
    {
      "cell_type": "code",
      "metadata": {
        "id": "nHW_8gvz4SF2",
        "colab_type": "code",
        "colab": {}
      },
      "source": [
        ""
      ],
      "execution_count": 0,
      "outputs": []
    }
  ]
}